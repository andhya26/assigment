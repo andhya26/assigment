{
 "cells": [
  {
   "cell_type": "markdown",
   "metadata": {},
   "source": [
    "1. Write a program that will give you the result of adding and reversing four-digit numbers."
   ]
  },
  {
   "cell_type": "code",
   "execution_count": 3,
   "metadata": {},
   "outputs": [
    {
     "name": "stdout",
     "output_type": "stream",
     "text": [
      "14\n",
      "5432\n"
     ]
    }
   ],
   "source": [
    "import math\n",
    "number  = str(input(\"enter the four digit number: \"))\n",
    "resultSum = math.floor(int(number[0]) + int(number[1]) + int(number[2]) + int(number[3]))\n",
    "print(resultSum)\n",
    "reverse = number[3] + number[2] + number[1] + number[0]\n",
    "print(reverse)\n"
   ]
  },
  {
   "cell_type": "markdown",
   "metadata": {},
   "source": [
    "2. Write a script that prompts the user to enter the coordinates of point (x, y). Find the slope and Euclidean distance between point (x1, y1) and point (x2, y2)."
   ]
  },
  {
   "cell_type": "code",
   "execution_count": 6,
   "metadata": {},
   "outputs": [
    {
     "name": "stdout",
     "output_type": "stream",
     "text": [
      "2.0\n",
      "2.23606797749979\n"
     ]
    }
   ],
   "source": [
    "import math\n",
    "\n",
    "a = str(input(\"enter the coordinate point a: \"))\n",
    "b = str(input(\"enter the coordinate point b: \"))\n",
    "\n",
    "y2 = int(b[3])\n",
    "y1 = int(a[3])\n",
    "x2 = int(b[0])\n",
    "x1 = int(a[0])\n",
    "\n",
    "gradien = (y2 - y1) / (x2 - x1)\n",
    "result = math.sqrt((y2 - y1)**2 + (x2 - x1)**2)\n",
    "\n",
    "print(gradien)\n",
    "print(result)"
   ]
  },
  {
   "cell_type": "markdown",
   "metadata": {},
   "source": [
    "3. Write a python program to get a single string from two given strings, separated by a space and swap the first three characters of each string."
   ]
  },
  {
   "cell_type": "code",
   "execution_count": 7,
   "metadata": {},
   "outputs": [
    {
     "name": "stdout",
     "output_type": "stream",
     "text": [
      "expected result: dhiwa purka\n"
     ]
    }
   ],
   "source": [
    "x1, x2 = input('purwa, dhika: ').split(',')\n",
    "x1, x2 = x1.strip(), x2.strip()\n",
    "text = f'{x2[:3] + x1[3:]} {x1[:3] + x2[3:]}'\n",
    "print(f'expected result: {text}')"
   ]
  },
  {
   "cell_type": "markdown",
   "metadata": {},
   "source": [
    "4. Create a new string made of the first, middle, and last characters of each input string."
   ]
  },
  {
   "cell_type": "code",
   "execution_count": 12,
   "metadata": {},
   "outputs": [
    {
     "name": "stdout",
     "output_type": "stream",
     "text": [
      "expected result: jpkdaa\n"
     ]
    }
   ],
   "source": [
    "x1 = input('jogjakarta: ')\n",
    "x2 = input('purwadhika: ')\n",
    "\n",
    "text = f'{x1[0]}{x2[0]}{x1[len(x1)//2]}{x2[len(x2)//2]}{x1[-1]}{x2[-1]}'\n",
    "\n",
    "print(f'expected result: {text}')\n",
    "           "
   ]
  },
  {
   "cell_type": "markdown",
   "metadata": {},
   "source": [
    "5. Given two strings. Write a program to create a new string by appending the second string in the middle of first string."
   ]
  },
  {
   "cell_type": "code",
   "execution_count": 10,
   "metadata": {},
   "outputs": [
    {
     "name": "stdout",
     "output_type": "stream",
     "text": [
      "expected result: JC0210DS\n"
     ]
    }
   ],
   "source": [
    "x1 = input('Enter the first text: ')\n",
    "x2 = input('Enter the second text: ')\n",
    "\n",
    "mid = len (x1)//2\n",
    "text = f'{x1[:mid]}{x2}{x1[mid:]}'\n",
    "\n",
    "print(f'expected result: {text}')\n"
   ]
  }
 ],
 "metadata": {
  "kernelspec": {
   "display_name": "Python 3",
   "language": "python",
   "name": "python3"
  },
  "language_info": {
   "codemirror_mode": {
    "name": "ipython",
    "version": 3
   },
   "file_extension": ".py",
   "mimetype": "text/x-python",
   "name": "python",
   "nbconvert_exporter": "python",
   "pygments_lexer": "ipython3",
   "version": "3.11.4"
  },
  "orig_nbformat": 4
 },
 "nbformat": 4,
 "nbformat_minor": 2
}
